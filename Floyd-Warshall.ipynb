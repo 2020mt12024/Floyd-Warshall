{
 "cells": [
  {
   "cell_type": "markdown",
   "metadata": {},
   "source": [
    "<html><head>\n",
    "\n",
    "\n",
    "<!-- Load require.js. Delete this if your page already loads require.js -->\n",
    "<script src=\"https://cdnjs.cloudflare.com/ajax/libs/require.js/2.3.4/require.min.js\" integrity=\"sha256-Ae2Vz/4ePdIu6ZyI/5ZGsYnb+m0JlOmKPjt6XZ9JJkA=\" crossorigin=\"anonymous\"></script>\n",
    "<script src=\"https://unpkg.com/@jupyter-widgets/html-manager@*/dist/embed-amd.js\" crossorigin=\"anonymous\"></script>\n",
    "<script type=\"application/vnd.jupyter.widget-state+json\">\n",
    "{\n",
    "    \"version_major\": 2,\n",
    "    \"version_minor\": 0,\n",
    "    \"state\": {}\n",
    "}\n",
    "</script>\n",
    "</head>\n",
    "<body>\n",
    "    <h1>All-Pairs Shortest Paths - Floyd–Warshall Algorithm</h1>    \n",
    "    <h2>Dynamic Programming Approach</h2>\n",
    "    <img src=\"Floyd-Warshall-Graph.PNG\"/>\n",
    "    <h2 align=\"center\">Graph</h2>\n",
    "</body>\n",
    "</html>"
   ]
  },
  {
   "cell_type": "code",
   "execution_count": 1,
   "metadata": {},
   "outputs": [],
   "source": [
    "import numpy as np\n",
    "import math as mt"
   ]
  },
  {
   "cell_type": "code",
   "execution_count": 2,
   "metadata": {},
   "outputs": [
    {
     "name": "stdout",
     "output_type": "stream",
     "text": [
      "Initial Matrix\n",
      "[[ 0.  3. inf  7.]\n",
      " [ 8.  0.  2. inf]\n",
      " [ 5. inf  0.  1.]\n",
      " [ 2. inf inf  0.]]\n"
     ]
    }
   ],
   "source": [
    "a = np.array([[0, 3, mt.inf, 7], [8, 0, 2, mt.inf], [5, mt.inf, 0, 1], [2, mt.inf, mt.inf, 0]])\n",
    "n = a.shape[0]\n",
    "print(\"Initial Matrix\")\n",
    "print(a)"
   ]
  },
  {
   "cell_type": "code",
   "execution_count": 3,
   "metadata": {},
   "outputs": [
    {
     "name": "stdout",
     "output_type": "stream",
     "text": [
      "Through Vertex: 1\n",
      "[[ 0.  3. inf  7.]\n",
      " [ 8.  0.  2. 15.]\n",
      " [ 5.  8.  0.  1.]\n",
      " [ 2.  5. inf  0.]]\n",
      "\n",
      "\n",
      "Through Vertex: 2\n",
      "[[ 0.  3.  5.  7.]\n",
      " [ 8.  0.  2. 15.]\n",
      " [ 5.  8.  0.  1.]\n",
      " [ 2.  5.  7.  0.]]\n",
      "\n",
      "\n",
      "Through Vertex: 3\n",
      "[[0. 3. 5. 6.]\n",
      " [7. 0. 2. 3.]\n",
      " [5. 8. 0. 1.]\n",
      " [2. 5. 7. 0.]]\n",
      "\n",
      "\n",
      "Through Vertex: 4\n",
      "[[0. 3. 5. 6.]\n",
      " [5. 0. 2. 3.]\n",
      " [3. 6. 0. 1.]\n",
      " [2. 5. 7. 0.]]\n"
     ]
    }
   ],
   "source": [
    "for k in range(n):\n",
    "    print(\"Through Vertex: \"+str(k+1))\n",
    "    for i in range(n):\n",
    "        for j in range(n):\n",
    "            a[i,j] = min(a[i,j],a[i,k]+a[k,j])\n",
    "    print(a)\n",
    "    if k != n-1:\n",
    "        print(\"\\n\")"
   ]
  }
 ],
 "metadata": {
  "kernelspec": {
   "display_name": "Python 3",
   "language": "python",
   "name": "python3"
  },
  "language_info": {
   "codemirror_mode": {
    "name": "ipython",
    "version": 3
   },
   "file_extension": ".py",
   "mimetype": "text/x-python",
   "name": "python",
   "nbconvert_exporter": "python",
   "pygments_lexer": "ipython3",
   "version": "3.8.5"
  }
 },
 "nbformat": 4,
 "nbformat_minor": 4
}
